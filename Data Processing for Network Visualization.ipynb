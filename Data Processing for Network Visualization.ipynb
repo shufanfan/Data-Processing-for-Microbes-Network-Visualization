{
 "cells": [
  {
   "cell_type": "code",
   "execution_count": 86,
   "id": "ec032e46",
   "metadata": {},
   "outputs": [],
   "source": [
    "import pandas as pd\n",
    "from itertools import combinations\n",
    "from collections import defaultdict"
   ]
  },
  {
   "cell_type": "markdown",
   "id": "ac7fbe02",
   "metadata": {},
   "source": [
    "## Step 1\n",
    "Reshape the original dataset from wide format to long format and then aggregate by sampleID to concatenate non-zero microbes."
   ]
  },
  {
   "cell_type": "code",
   "execution_count": 87,
   "id": "ff8fe3e7",
   "metadata": {},
   "outputs": [],
   "source": [
    "data = pd.read_csv(\"south.csv\")"
   ]
  },
  {
   "cell_type": "code",
   "execution_count": 88,
   "id": "ac1b6386",
   "metadata": {},
   "outputs": [
    {
     "data": {
      "text/html": [
       "<div>\n",
       "<style scoped>\n",
       "    .dataframe tbody tr th:only-of-type {\n",
       "        vertical-align: middle;\n",
       "    }\n",
       "\n",
       "    .dataframe tbody tr th {\n",
       "        vertical-align: top;\n",
       "    }\n",
       "\n",
       "    .dataframe thead th {\n",
       "        text-align: right;\n",
       "    }\n",
       "</style>\n",
       "<table border=\"1\" class=\"dataframe\">\n",
       "  <thead>\n",
       "    <tr style=\"text-align: right;\">\n",
       "      <th></th>\n",
       "      <th>sampleID</th>\n",
       "      <th>region</th>\n",
       "      <th>site</th>\n",
       "      <th>g_Methanobacterium</th>\n",
       "      <th>f_Rice_Cluster_II</th>\n",
       "      <th>c_Bathyarchaeia</th>\n",
       "      <th>g_RBG-16-58-14</th>\n",
       "      <th>c_Subgroup_17</th>\n",
       "      <th>g_Methanosaeta</th>\n",
       "      <th>g_Methanoregula</th>\n",
       "      <th>...</th>\n",
       "      <th>f_Caedibacteraceae</th>\n",
       "      <th>f_Halanaerobiaceae</th>\n",
       "      <th>g_Candidatus_Actinomarina</th>\n",
       "      <th>f_Helicobacteraceae</th>\n",
       "      <th>f_Francisellaceae</th>\n",
       "      <th>g_endosymbionts8</th>\n",
       "      <th>g_Soortia</th>\n",
       "      <th>g_Rhodopila</th>\n",
       "      <th>f_Family_XIV</th>\n",
       "      <th>g_Syntrophaceticus</th>\n",
       "    </tr>\n",
       "  </thead>\n",
       "  <tbody>\n",
       "    <tr>\n",
       "      <th>0</th>\n",
       "      <td>MB_MCMST2_P6_S7</td>\n",
       "      <td>south</td>\n",
       "      <td>MCMS</td>\n",
       "      <td>32</td>\n",
       "      <td>0</td>\n",
       "      <td>13204</td>\n",
       "      <td>1801</td>\n",
       "      <td>3259</td>\n",
       "      <td>152</td>\n",
       "      <td>6</td>\n",
       "      <td>...</td>\n",
       "      <td>0</td>\n",
       "      <td>0</td>\n",
       "      <td>0</td>\n",
       "      <td>0</td>\n",
       "      <td>0</td>\n",
       "      <td>0</td>\n",
       "      <td>0</td>\n",
       "      <td>0</td>\n",
       "      <td>0</td>\n",
       "      <td>0</td>\n",
       "    </tr>\n",
       "    <tr>\n",
       "      <th>1</th>\n",
       "      <td>MB_MCMST2_P6_S9</td>\n",
       "      <td>south</td>\n",
       "      <td>MCMS</td>\n",
       "      <td>87</td>\n",
       "      <td>0</td>\n",
       "      <td>18061</td>\n",
       "      <td>5518</td>\n",
       "      <td>2623</td>\n",
       "      <td>548</td>\n",
       "      <td>67</td>\n",
       "      <td>...</td>\n",
       "      <td>0</td>\n",
       "      <td>0</td>\n",
       "      <td>0</td>\n",
       "      <td>0</td>\n",
       "      <td>0</td>\n",
       "      <td>0</td>\n",
       "      <td>0</td>\n",
       "      <td>0</td>\n",
       "      <td>0</td>\n",
       "      <td>0</td>\n",
       "    </tr>\n",
       "    <tr>\n",
       "      <th>2</th>\n",
       "      <td>MB_MCMST2_P6_S2</td>\n",
       "      <td>south</td>\n",
       "      <td>MCMS</td>\n",
       "      <td>14</td>\n",
       "      <td>0</td>\n",
       "      <td>1912</td>\n",
       "      <td>106</td>\n",
       "      <td>4618</td>\n",
       "      <td>9</td>\n",
       "      <td>0</td>\n",
       "      <td>...</td>\n",
       "      <td>0</td>\n",
       "      <td>0</td>\n",
       "      <td>0</td>\n",
       "      <td>0</td>\n",
       "      <td>0</td>\n",
       "      <td>0</td>\n",
       "      <td>0</td>\n",
       "      <td>0</td>\n",
       "      <td>0</td>\n",
       "      <td>0</td>\n",
       "    </tr>\n",
       "    <tr>\n",
       "      <th>3</th>\n",
       "      <td>MB_MCMST2_P6_S5</td>\n",
       "      <td>south</td>\n",
       "      <td>MCMS</td>\n",
       "      <td>90</td>\n",
       "      <td>0</td>\n",
       "      <td>18759</td>\n",
       "      <td>3022</td>\n",
       "      <td>5005</td>\n",
       "      <td>47</td>\n",
       "      <td>4</td>\n",
       "      <td>...</td>\n",
       "      <td>0</td>\n",
       "      <td>0</td>\n",
       "      <td>0</td>\n",
       "      <td>0</td>\n",
       "      <td>0</td>\n",
       "      <td>0</td>\n",
       "      <td>0</td>\n",
       "      <td>0</td>\n",
       "      <td>0</td>\n",
       "      <td>0</td>\n",
       "    </tr>\n",
       "    <tr>\n",
       "      <th>4</th>\n",
       "      <td>MB_MCMST1_P1_S1</td>\n",
       "      <td>south</td>\n",
       "      <td>MCMS</td>\n",
       "      <td>1432</td>\n",
       "      <td>0</td>\n",
       "      <td>35720</td>\n",
       "      <td>8110</td>\n",
       "      <td>6188</td>\n",
       "      <td>5700</td>\n",
       "      <td>15</td>\n",
       "      <td>...</td>\n",
       "      <td>0</td>\n",
       "      <td>0</td>\n",
       "      <td>0</td>\n",
       "      <td>0</td>\n",
       "      <td>0</td>\n",
       "      <td>0</td>\n",
       "      <td>0</td>\n",
       "      <td>0</td>\n",
       "      <td>0</td>\n",
       "      <td>0</td>\n",
       "    </tr>\n",
       "  </tbody>\n",
       "</table>\n",
       "<p>5 rows × 2249 columns</p>\n",
       "</div>"
      ],
      "text/plain": [
       "          sampleID region  site  g_Methanobacterium  f_Rice_Cluster_II  \\\n",
       "0  MB_MCMST2_P6_S7  south  MCMS                  32                  0   \n",
       "1  MB_MCMST2_P6_S9  south  MCMS                  87                  0   \n",
       "2  MB_MCMST2_P6_S2  south  MCMS                  14                  0   \n",
       "3  MB_MCMST2_P6_S5  south  MCMS                  90                  0   \n",
       "4  MB_MCMST1_P1_S1  south  MCMS                1432                  0   \n",
       "\n",
       "   c_Bathyarchaeia  g_RBG-16-58-14  c_Subgroup_17  g_Methanosaeta  \\\n",
       "0            13204            1801           3259             152   \n",
       "1            18061            5518           2623             548   \n",
       "2             1912             106           4618               9   \n",
       "3            18759            3022           5005              47   \n",
       "4            35720            8110           6188            5700   \n",
       "\n",
       "   g_Methanoregula  ...  f_Caedibacteraceae  f_Halanaerobiaceae  \\\n",
       "0                6  ...                   0                   0   \n",
       "1               67  ...                   0                   0   \n",
       "2                0  ...                   0                   0   \n",
       "3                4  ...                   0                   0   \n",
       "4               15  ...                   0                   0   \n",
       "\n",
       "   g_Candidatus_Actinomarina  f_Helicobacteraceae  f_Francisellaceae  \\\n",
       "0                          0                    0                  0   \n",
       "1                          0                    0                  0   \n",
       "2                          0                    0                  0   \n",
       "3                          0                    0                  0   \n",
       "4                          0                    0                  0   \n",
       "\n",
       "   g_endosymbionts8  g_Soortia  g_Rhodopila  f_Family_XIV  g_Syntrophaceticus  \n",
       "0                 0          0            0             0                   0  \n",
       "1                 0          0            0             0                   0  \n",
       "2                 0          0            0             0                   0  \n",
       "3                 0          0            0             0                   0  \n",
       "4                 0          0            0             0                   0  \n",
       "\n",
       "[5 rows x 2249 columns]"
      ]
     },
     "execution_count": 88,
     "metadata": {},
     "output_type": "execute_result"
    }
   ],
   "source": [
    "data.head()"
   ]
  },
  {
   "cell_type": "code",
   "execution_count": 89,
   "id": "f94ae0bc",
   "metadata": {},
   "outputs": [],
   "source": [
    "data = data.drop(columns=['region', 'site'])"
   ]
  },
  {
   "cell_type": "code",
   "execution_count": 90,
   "id": "85f2a651",
   "metadata": {},
   "outputs": [],
   "source": [
    "long_data = data.melt(id_vars=\"sampleID\", var_name=\"microbe\", value_name=\"count\")"
   ]
  },
  {
   "cell_type": "code",
   "execution_count": 91,
   "id": "57952a82",
   "metadata": {},
   "outputs": [],
   "source": [
    "long_data = long_data[long_data[\"count\"] > 0]"
   ]
  },
  {
   "cell_type": "code",
   "execution_count": 92,
   "id": "71182105",
   "metadata": {},
   "outputs": [
    {
     "data": {
      "text/html": [
       "<div>\n",
       "<style scoped>\n",
       "    .dataframe tbody tr th:only-of-type {\n",
       "        vertical-align: middle;\n",
       "    }\n",
       "\n",
       "    .dataframe tbody tr th {\n",
       "        vertical-align: top;\n",
       "    }\n",
       "\n",
       "    .dataframe thead th {\n",
       "        text-align: right;\n",
       "    }\n",
       "</style>\n",
       "<table border=\"1\" class=\"dataframe\">\n",
       "  <thead>\n",
       "    <tr style=\"text-align: right;\">\n",
       "      <th></th>\n",
       "      <th>sampleID</th>\n",
       "      <th>microbe</th>\n",
       "      <th>count</th>\n",
       "    </tr>\n",
       "  </thead>\n",
       "  <tbody>\n",
       "    <tr>\n",
       "      <th>0</th>\n",
       "      <td>MB_MCMST2_P6_S7</td>\n",
       "      <td>g_Methanobacterium</td>\n",
       "      <td>32</td>\n",
       "    </tr>\n",
       "    <tr>\n",
       "      <th>1</th>\n",
       "      <td>MB_MCMST2_P6_S9</td>\n",
       "      <td>g_Methanobacterium</td>\n",
       "      <td>87</td>\n",
       "    </tr>\n",
       "    <tr>\n",
       "      <th>2</th>\n",
       "      <td>MB_MCMST2_P6_S2</td>\n",
       "      <td>g_Methanobacterium</td>\n",
       "      <td>14</td>\n",
       "    </tr>\n",
       "    <tr>\n",
       "      <th>3</th>\n",
       "      <td>MB_MCMST2_P6_S5</td>\n",
       "      <td>g_Methanobacterium</td>\n",
       "      <td>90</td>\n",
       "    </tr>\n",
       "    <tr>\n",
       "      <th>4</th>\n",
       "      <td>MB_MCMST1_P1_S1</td>\n",
       "      <td>g_Methanobacterium</td>\n",
       "      <td>1432</td>\n",
       "    </tr>\n",
       "  </tbody>\n",
       "</table>\n",
       "</div>"
      ],
      "text/plain": [
       "          sampleID             microbe  count\n",
       "0  MB_MCMST2_P6_S7  g_Methanobacterium     32\n",
       "1  MB_MCMST2_P6_S9  g_Methanobacterium     87\n",
       "2  MB_MCMST2_P6_S2  g_Methanobacterium     14\n",
       "3  MB_MCMST2_P6_S5  g_Methanobacterium     90\n",
       "4  MB_MCMST1_P1_S1  g_Methanobacterium   1432"
      ]
     },
     "execution_count": 92,
     "metadata": {},
     "output_type": "execute_result"
    }
   ],
   "source": [
    "long_data.head()"
   ]
  },
  {
   "cell_type": "code",
   "execution_count": 93,
   "id": "cc679e6e",
   "metadata": {},
   "outputs": [],
   "source": [
    "wide_data = long_data.groupby(\"sampleID\")[\"microbe\"].apply(lambda x: \", \".join(x)).reset_index()  \n"
   ]
  },
  {
   "cell_type": "code",
   "execution_count": 94,
   "id": "49add372",
   "metadata": {},
   "outputs": [],
   "source": [
    "wide_data.columns = [\"sampleID\", \"Microbes\"]"
   ]
  },
  {
   "cell_type": "code",
   "execution_count": 95,
   "id": "3acf43f8",
   "metadata": {},
   "outputs": [
    {
     "data": {
      "text/html": [
       "<div>\n",
       "<style scoped>\n",
       "    .dataframe tbody tr th:only-of-type {\n",
       "        vertical-align: middle;\n",
       "    }\n",
       "\n",
       "    .dataframe tbody tr th {\n",
       "        vertical-align: top;\n",
       "    }\n",
       "\n",
       "    .dataframe thead th {\n",
       "        text-align: right;\n",
       "    }\n",
       "</style>\n",
       "<table border=\"1\" class=\"dataframe\">\n",
       "  <thead>\n",
       "    <tr style=\"text-align: right;\">\n",
       "      <th></th>\n",
       "      <th>sampleID</th>\n",
       "      <th>Microbes</th>\n",
       "    </tr>\n",
       "  </thead>\n",
       "  <tbody>\n",
       "    <tr>\n",
       "      <th>0</th>\n",
       "      <td>MB_MCHST3_P1_S1</td>\n",
       "      <td>g_Methanobacterium, c_Bathyarchaeia, g_RBG-16-...</td>\n",
       "    </tr>\n",
       "    <tr>\n",
       "      <th>1</th>\n",
       "      <td>MB_MCHST3_P1_S2</td>\n",
       "      <td>g_Methanobacterium, c_Bathyarchaeia, g_RBG-16-...</td>\n",
       "    </tr>\n",
       "    <tr>\n",
       "      <th>2</th>\n",
       "      <td>MB_MCHST3_P1_S3</td>\n",
       "      <td>g_Methanobacterium, c_Bathyarchaeia, g_RBG-16-...</td>\n",
       "    </tr>\n",
       "    <tr>\n",
       "      <th>3</th>\n",
       "      <td>MB_MCHST3_P1_S4</td>\n",
       "      <td>g_Methanobacterium, c_Bathyarchaeia, g_RBG-16-...</td>\n",
       "    </tr>\n",
       "    <tr>\n",
       "      <th>4</th>\n",
       "      <td>MB_MCHST3_P1_S5</td>\n",
       "      <td>g_Methanobacterium, c_Bathyarchaeia, g_RBG-16-...</td>\n",
       "    </tr>\n",
       "  </tbody>\n",
       "</table>\n",
       "</div>"
      ],
      "text/plain": [
       "          sampleID                                           Microbes\n",
       "0  MB_MCHST3_P1_S1  g_Methanobacterium, c_Bathyarchaeia, g_RBG-16-...\n",
       "1  MB_MCHST3_P1_S2  g_Methanobacterium, c_Bathyarchaeia, g_RBG-16-...\n",
       "2  MB_MCHST3_P1_S3  g_Methanobacterium, c_Bathyarchaeia, g_RBG-16-...\n",
       "3  MB_MCHST3_P1_S4  g_Methanobacterium, c_Bathyarchaeia, g_RBG-16-...\n",
       "4  MB_MCHST3_P1_S5  g_Methanobacterium, c_Bathyarchaeia, g_RBG-16-..."
      ]
     },
     "execution_count": 95,
     "metadata": {},
     "output_type": "execute_result"
    }
   ],
   "source": [
    "wide_data.head()"
   ]
  },
  {
   "cell_type": "markdown",
   "id": "ba1fd51e",
   "metadata": {},
   "source": [
    "## Step 2\n",
    "Filtered each sample to retain only the microbes that matched the top five microbes identified through Principal Component Analysis."
   ]
  },
  {
   "cell_type": "code",
   "execution_count": 96,
   "id": "965f1a46",
   "metadata": {},
   "outputs": [],
   "source": [
    "target_microbes = {\"g_Methanosaeta\", \"g_Methanoregula\", \"g_Sh765B-TzT-35\", \n",
    "                   \"c_BD2-11_terrestrial_group\", \"f_Methanomassiliicoccaceae\"}"
   ]
  },
  {
   "cell_type": "code",
   "execution_count": 97,
   "id": "9cb55941",
   "metadata": {},
   "outputs": [],
   "source": [
    "filtered_rows = []\n",
    "for index, row in wide_data.iterrows():\n",
    "    sample_id = row.iloc[0]  \n",
    "    microbes = row.iloc[1].split(\", \") \n",
    "\n",
    "   \n",
    "    matched_microbes = list(target_microbes.intersection(microbes))\n",
    "    \n",
    "    if matched_microbes:  \n",
    "        filtered_rows.append([sample_id, \", \".join(matched_microbes)])  "
   ]
  },
  {
   "cell_type": "code",
   "execution_count": 98,
   "id": "4ffb9596",
   "metadata": {},
   "outputs": [],
   "source": [
    "target_data = pd.DataFrame(filtered_rows, columns=[\"sampleID\", \"Microbes\"])"
   ]
  },
  {
   "cell_type": "markdown",
   "id": "15a20a5c",
   "metadata": {},
   "source": [
    "## Step 3\n",
    "calculating the network nodes as the unique microbes and the edges by counting how often each pair of microbes co-occurred in the same sample."
   ]
  },
  {
   "cell_type": "code",
   "execution_count": 99,
   "id": "ab9500a7",
   "metadata": {},
   "outputs": [],
   "source": [
    "target_data[\"Microbes\"] = target_data[\"Microbes\"].apply(lambda x: x.split(\", \"))"
   ]
  },
  {
   "cell_type": "code",
   "execution_count": 100,
   "id": "539a9426",
   "metadata": {},
   "outputs": [],
   "source": [
    "unique_microbes = set(microbe for sublist in target_data[\"Microbes\"] for microbe in sublist)"
   ]
  },
  {
   "cell_type": "code",
   "execution_count": 101,
   "id": "6c5d541e",
   "metadata": {},
   "outputs": [],
   "source": [
    "nodes_df = pd.DataFrame({\"Id\": list(unique_microbes), \"Label\": list(unique_microbes)})\n",
    "nodes_df.to_csv(\"2.csv\", index=False)"
   ]
  },
  {
   "cell_type": "code",
   "execution_count": 102,
   "id": "d7fbd278",
   "metadata": {},
   "outputs": [],
   "source": [
    "edges_dict = defaultdict(int)"
   ]
  },
  {
   "cell_type": "code",
   "execution_count": 103,
   "id": "a17b6e0d",
   "metadata": {},
   "outputs": [],
   "source": [
    "for microbes in target_data[\"Microbes\"]:\n",
    "    for microbe1, microbe2 in combinations(sorted(microbes), 2):  \n",
    "        edges_dict[(microbe1, microbe2)] += 1"
   ]
  },
  {
   "cell_type": "code",
   "execution_count": 104,
   "id": "f484161e",
   "metadata": {},
   "outputs": [],
   "source": [
    "edges_df = pd.DataFrame([(k[0], k[1], v) for k, v in edges_dict.items()], columns=[\"Source\", \"Target\", \"Weight\"])\n",
    "edges_df.to_csv(\"3.csv\", index=False)"
   ]
  }
 ],
 "metadata": {
  "kernelspec": {
   "display_name": "Python 3 (ipykernel)",
   "language": "python",
   "name": "python3"
  },
  "language_info": {
   "codemirror_mode": {
    "name": "ipython",
    "version": 3
   },
   "file_extension": ".py",
   "mimetype": "text/x-python",
   "name": "python",
   "nbconvert_exporter": "python",
   "pygments_lexer": "ipython3",
   "version": "3.9.18"
  }
 },
 "nbformat": 4,
 "nbformat_minor": 5
}
